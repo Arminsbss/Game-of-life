{
  "nbformat": 4,
  "nbformat_minor": 0,
  "metadata": {
    "colab": {
      "name": "Game of life.ipynb",
      "provenance": [],
      "collapsed_sections": [],
      "authorship_tag": "ABX9TyMpkxbQz3lrBRQmLdWNqMOA",
      "include_colab_link": true
    },
    "kernelspec": {
      "name": "python3",
      "display_name": "Python 3"
    },
    "language_info": {
      "name": "python"
    }
  },
  "cells": [
    {
      "cell_type": "markdown",
      "metadata": {
        "id": "view-in-github",
        "colab_type": "text"
      },
      "source": [
        "<a href=\"https://colab.research.google.com/github/Arminsbss/Game-of-life/blob/main/Game_of_life.ipynb\" target=\"_parent\"><img src=\"https://colab.research.google.com/assets/colab-badge.svg\" alt=\"Open In Colab\"/></a>"
      ]
    },
    {
      "cell_type": "code",
      "execution_count": 1,
      "metadata": {
        "id": "yEz0wVCnWD5J"
      },
      "outputs": [],
      "source": [
        "'''====================Armin SabourMoghaddam ===================='''\n",
        "#==========Import Libraries==========\n",
        "import numpy as np\n",
        "from time import sleep\n",
        "from IPython.display import clear_output"
      ]
    },
    {
      "cell_type": "code",
      "source": [
        "#==========Assignments==========\n",
        "Row=0\n",
        "Column=0\n",
        "Loop=0\n",
        "Row=int(input(\"Please enter number of Rows in table: \"))\n",
        "Column=int(input(\"Please enter number of Column of table: \"))\n",
        "Loop=int(input(\"Please enter number of Loops of table: \"))"
      ],
      "metadata": {
        "colab": {
          "base_uri": "https://localhost:8080/"
        },
        "id": "B-7nHgjp8WFZ",
        "outputId": "f65adcd6-9691-4be4-e481-95a13cded03a"
      },
      "execution_count": 2,
      "outputs": [
        {
          "name": "stdout",
          "output_type": "stream",
          "text": [
            "Please enter number of Rows in table: 15\n",
            "Please enter number of Column of table: 40\n",
            "Please enter number of Loops of table: 150\n"
          ]
        }
      ]
    },
    {
      "cell_type": "code",
      "source": [
        "#==========Table==========\n",
        "Table=np.random.randint(0,2,(Row,Column))\n",
        "def Table_Emojy(Table):\n",
        "  clear_output(wait=True)\n",
        "  sleep(0.5)\n",
        "  table=''\n",
        "  for i in Table:\n",
        "    for j in i:\n",
        "        table += '😃' if j == 1 else '💀'\n",
        "    table += '\\n'\n",
        "  print(table)"
      ],
      "metadata": {
        "id": "ZwcFidfEFRDC"
      },
      "execution_count": 3,
      "outputs": []
    },
    {
      "cell_type": "code",
      "source": [
        "#==========Main==========\n",
        "new_Table = Table.copy()\n",
        "for i in range(Loop):\n",
        "  Table_Emojy(Table)\n",
        "  for i in range(Row):\n",
        "      for j in range(Column):\n",
        "          neighbors = []\n",
        "          neighbors.append(Table[i-1][j-1])\n",
        "          neighbors.append(Table[i-1][j])\n",
        "          neighbors.append(Table[i-1][j+1 if j+1 < Column else 0])\n",
        "          neighbors.append(Table[i][j-1])\n",
        "          neighbors.append(Table[i][j+1 if j+1 < Column else 0])\n",
        "          neighbors.append(Table[i+1 if i+1 < Row else 0][j-1])\n",
        "          neighbors.append(Table[i+1 if i+1 < Row else 0][j])\n",
        "          neighbors.append(Table[i+1 if i+1 < Row else 0][j+1 if j+1 < Column else 0])\n",
        "          \n",
        "          if Table[i][j]:\n",
        "              if sum(neighbors) < 2: new_Table[i][j] = 0\n",
        "              elif sum(neighbors) > 3: new_Table[i][j] = 0\n",
        "          else: \n",
        "              if sum(neighbors) == 3: new_Table[i][j] = 1\n",
        "  Table = new_Table.copy()"
      ],
      "metadata": {
        "id": "3MTEc5TdEYbu",
        "colab": {
          "base_uri": "https://localhost:8080/"
        },
        "outputId": "e31282df-2565-42e4-a708-028875d2b8b8"
      },
      "execution_count": 4,
      "outputs": [
        {
          "output_type": "stream",
          "name": "stdout",
          "text": [
            "💀💀💀💀💀💀💀💀💀💀💀💀💀💀💀💀💀💀💀💀💀💀💀💀💀💀💀💀💀💀😃💀😃💀💀💀💀💀💀💀\n",
            "💀💀💀💀💀💀💀💀💀💀💀💀💀💀💀💀💀💀💀💀💀💀💀💀💀💀💀💀💀💀💀😃💀💀💀💀💀💀💀💀\n",
            "💀💀💀💀💀💀💀💀💀💀💀💀💀💀💀💀💀💀💀💀💀💀💀💀💀💀💀😃😃💀💀💀💀💀💀💀💀💀💀💀\n",
            "💀😃😃💀💀💀💀💀💀💀💀💀💀💀💀💀💀💀💀💀💀💀💀💀💀💀💀😃😃💀💀💀💀💀💀💀💀💀💀💀\n",
            "💀😃😃💀💀💀💀💀💀💀💀💀💀💀💀💀💀💀💀💀💀💀💀💀💀💀💀💀💀💀💀💀💀💀💀💀💀💀💀💀\n",
            "💀💀💀💀💀💀💀💀💀💀💀💀💀💀💀💀💀💀💀💀💀💀💀💀💀💀💀💀💀💀💀💀💀💀💀💀💀💀💀💀\n",
            "💀💀💀💀💀💀💀💀💀💀💀💀💀💀💀💀💀💀💀💀💀💀💀💀💀💀💀💀💀💀💀💀💀💀💀💀💀💀💀💀\n",
            "💀💀💀💀💀😃💀💀💀💀💀💀💀💀💀💀💀💀💀💀💀💀💀💀💀💀💀💀💀💀💀💀💀💀💀💀💀💀💀💀\n",
            "💀💀💀💀😃💀😃💀💀💀💀💀💀💀💀💀💀💀💀💀💀💀💀💀💀💀💀💀💀💀💀💀💀💀💀💀💀💀💀💀\n",
            "💀💀💀💀😃💀😃💀💀💀💀💀💀💀💀💀💀💀💀💀💀💀💀💀💀💀💀💀💀💀💀💀💀💀💀💀💀💀💀💀\n",
            "💀💀💀💀💀😃💀💀💀💀💀💀💀💀💀💀💀💀💀💀💀💀💀💀💀💀💀💀💀💀💀💀💀💀💀💀💀💀💀💀\n",
            "💀💀💀💀💀💀💀💀💀💀💀💀💀💀💀💀💀💀💀💀💀💀💀💀💀💀💀💀💀💀💀💀💀💀💀💀💀💀💀💀\n",
            "💀💀💀💀💀💀💀💀💀💀💀💀💀💀💀💀💀💀💀💀💀💀💀💀💀💀💀💀💀💀💀💀💀💀💀💀💀💀💀💀\n",
            "💀💀💀💀💀💀💀💀💀💀💀💀💀💀💀💀💀💀💀💀💀💀💀💀💀💀💀💀💀💀💀😃💀💀💀💀💀💀💀💀\n",
            "💀💀💀💀💀💀💀💀💀💀💀💀💀💀💀💀💀💀💀💀💀💀💀💀💀💀💀💀💀💀😃💀😃💀💀💀💀💀💀💀\n",
            "\n"
          ]
        }
      ]
    },
    {
      "cell_type": "code",
      "source": [
        ""
      ],
      "metadata": {
        "id": "WKF_rblKzI8D"
      },
      "execution_count": 4,
      "outputs": []
    }
  ]
}